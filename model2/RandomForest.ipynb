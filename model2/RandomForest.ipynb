{
 "cells": [
  {
   "cell_type": "code",
   "execution_count": 1,
   "metadata": {},
   "outputs": [],
   "source": [
    "import pandas as pd\n",
    "import numpy as np\n",
    "from sklearn.ensemble import RandomForestRegressor\n",
    "from sklearn.model_selection import train_test_split\n",
    "from sklearn.feature_selection import RFECV\n",
    "from sklearn.metrics import *\n",
    "from sklearn.metrics import accuracy_score, precision_score, recall_score, f1_score\n"
   ]
  },
  {
   "cell_type": "code",
   "execution_count": 2,
   "metadata": {},
   "outputs": [],
   "source": [
    "diamonds = pd.read_csv('../inputs/diamonds_train.csv')"
   ]
  },
  {
   "cell_type": "code",
   "execution_count": 3,
   "metadata": {},
   "outputs": [],
   "source": [
    "#Función::\n",
    "\n",
    "def clean (df):\n",
    "\n",
    "    #Creo dict para reemplazar los valores de cut a formato numérico:\n",
    "\n",
    "    punt_cut = {'Premium': 5, 'Ideal': 4, 'Very Good': 3, 'Good':2, 'Fair': 1}\n",
    "    df['cut'] = df['cut'].map(punt_cut)\n",
    "\n",
    "    #Creo dict para reemplazar los valores de cut a formato numérico:\n",
    "    punt_color = {'F':2, 'D':7, 'E':3, 'J':4, 'H':5, 'I':6, 'G':4}\n",
    "\n",
    "    df['color'] = df['color'].map(punt_color)\n",
    "\n",
    "    #Creo dict para reemplazar los valores de cut a formato numérico:\n",
    "    punt_clarity = {'VS1':4, 'SI1':2, 'VVS2':7, 'SI2':3, 'VS2':5, 'IF':8, 'VVS1':6, 'I1':1}\n",
    "\n",
    "    df['clarity'] = df['clarity'].map(punt_clarity)\n",
    "    \n",
    "    return df\n"
   ]
  },
  {
   "cell_type": "code",
   "execution_count": 4,
   "metadata": {},
   "outputs": [],
   "source": [
    "diamonds = clean(diamonds)"
   ]
  },
  {
   "cell_type": "code",
   "execution_count": 5,
   "metadata": {},
   "outputs": [
    {
     "name": "stdout",
     "output_type": "stream",
     "text": [
      "(32276, 10) (8069, 10) (32276,) (8069,)\n"
     ]
    }
   ],
   "source": [
    "X = diamonds.drop(columns=[\"price\"])\n",
    "y = diamonds['price']\n",
    "\n",
    "X_copy = X.copy()\n",
    "y_copy = y.copy()\n",
    "\n",
    "\n",
    "X_train, X_test, y_train, y_test = train_test_split(X, y, test_size=0.2, random_state=42)\n",
    "print(X_train.shape, X_test.shape, y_train.shape, y_test.shape)"
   ]
  },
  {
   "cell_type": "code",
   "execution_count": 6,
   "metadata": {},
   "outputs": [
    {
     "data": {
      "text/plain": [
       "RFECV(cv=5,\n",
       "      estimator=RandomForestRegressor(bootstrap=True, ccp_alpha=0.0,\n",
       "                                      criterion='mse', max_depth=3,\n",
       "                                      max_features='auto', max_leaf_nodes=None,\n",
       "                                      max_samples=None,\n",
       "                                      min_impurity_decrease=0.0,\n",
       "                                      min_impurity_split=None,\n",
       "                                      min_samples_leaf=3, min_samples_split=2,\n",
       "                                      min_weight_fraction_leaf=0.0,\n",
       "                                      n_estimators=15, n_jobs=None,\n",
       "                                      oob_score=False, random_state=111,\n",
       "                                      verbose=0, warm_start=False),\n",
       "      min_features_to_select=1, n_jobs=None, scoring=None, step=1, verbose=0)"
      ]
     },
     "execution_count": 6,
     "metadata": {},
     "output_type": "execute_result"
    }
   ],
   "source": [
    "forest_model = RandomForestRegressor(n_estimators=15, max_depth=3, min_samples_leaf=3, random_state=111)\n",
    "selector = RFECV(forest_model, step=1, cv=5)\n",
    "\n",
    "selector.fit(X, y)"
   ]
  },
  {
   "cell_type": "code",
   "execution_count": 7,
   "metadata": {},
   "outputs": [
    {
     "data": {
      "text/plain": [
       "4"
      ]
     },
     "execution_count": 7,
     "metadata": {},
     "output_type": "execute_result"
    }
   ],
   "source": [
    "selector.n_features_"
   ]
  },
  {
   "cell_type": "code",
   "execution_count": 8,
   "metadata": {},
   "outputs": [
    {
     "data": {
      "text/plain": [
       "1      carat\n",
       "4    clarity\n",
       "7          x\n",
       "8          y\n",
       "dtype: object"
      ]
     },
     "execution_count": 8,
     "metadata": {},
     "output_type": "execute_result"
    }
   ],
   "source": [
    "pd.Series(X.columns)[selector.support_.tolist()]"
   ]
  },
  {
   "cell_type": "code",
   "execution_count": 9,
   "metadata": {},
   "outputs": [
    {
     "data": {
      "text/plain": [
       "Index(['id', 'carat', 'cut', 'color', 'clarity', 'depth', 'table', 'x', 'y',\n",
       "       'z'],\n",
       "      dtype='object')"
      ]
     },
     "execution_count": 9,
     "metadata": {},
     "output_type": "execute_result"
    }
   ],
   "source": [
    "X.columns"
   ]
  },
  {
   "cell_type": "code",
   "execution_count": 10,
   "metadata": {},
   "outputs": [],
   "source": [
    "#Elimino las columnas que ha desechado el selector:\n",
    "X.drop(['id','cut','color','depth','table','z'], axis =1, inplace = True)"
   ]
  },
  {
   "cell_type": "code",
   "execution_count": 11,
   "metadata": {},
   "outputs": [
    {
     "data": {
      "text/html": [
       "<div>\n",
       "<style scoped>\n",
       "    .dataframe tbody tr th:only-of-type {\n",
       "        vertical-align: middle;\n",
       "    }\n",
       "\n",
       "    .dataframe tbody tr th {\n",
       "        vertical-align: top;\n",
       "    }\n",
       "\n",
       "    .dataframe thead th {\n",
       "        text-align: right;\n",
       "    }\n",
       "</style>\n",
       "<table border=\"1\" class=\"dataframe\">\n",
       "  <thead>\n",
       "    <tr style=\"text-align: right;\">\n",
       "      <th></th>\n",
       "      <th>carat</th>\n",
       "      <th>clarity</th>\n",
       "      <th>x</th>\n",
       "      <th>y</th>\n",
       "    </tr>\n",
       "  </thead>\n",
       "  <tbody>\n",
       "    <tr>\n",
       "      <th>0</th>\n",
       "      <td>0.78</td>\n",
       "      <td>4</td>\n",
       "      <td>5.93</td>\n",
       "      <td>5.98</td>\n",
       "    </tr>\n",
       "    <tr>\n",
       "      <th>1</th>\n",
       "      <td>0.31</td>\n",
       "      <td>2</td>\n",
       "      <td>4.37</td>\n",
       "      <td>4.32</td>\n",
       "    </tr>\n",
       "    <tr>\n",
       "      <th>2</th>\n",
       "      <td>0.30</td>\n",
       "      <td>2</td>\n",
       "      <td>4.30</td>\n",
       "      <td>4.34</td>\n",
       "    </tr>\n",
       "    <tr>\n",
       "      <th>3</th>\n",
       "      <td>1.04</td>\n",
       "      <td>7</td>\n",
       "      <td>6.54</td>\n",
       "      <td>6.46</td>\n",
       "    </tr>\n",
       "    <tr>\n",
       "      <th>4</th>\n",
       "      <td>0.65</td>\n",
       "      <td>2</td>\n",
       "      <td>5.58</td>\n",
       "      <td>5.62</td>\n",
       "    </tr>\n",
       "  </tbody>\n",
       "</table>\n",
       "</div>"
      ],
      "text/plain": [
       "   carat  clarity     x     y\n",
       "0   0.78        4  5.93  5.98\n",
       "1   0.31        2  4.37  4.32\n",
       "2   0.30        2  4.30  4.34\n",
       "3   1.04        7  6.54  6.46\n",
       "4   0.65        2  5.58  5.62"
      ]
     },
     "execution_count": 11,
     "metadata": {},
     "output_type": "execute_result"
    }
   ],
   "source": [
    "X.head()"
   ]
  },
  {
   "cell_type": "code",
   "execution_count": 12,
   "metadata": {},
   "outputs": [
    {
     "data": {
      "text/plain": [
       "RandomForestRegressor(bootstrap=True, ccp_alpha=0.0, criterion='mse',\n",
       "                      max_depth=3, max_features='auto', max_leaf_nodes=None,\n",
       "                      max_samples=None, min_impurity_decrease=0.0,\n",
       "                      min_impurity_split=None, min_samples_leaf=3,\n",
       "                      min_samples_split=2, min_weight_fraction_leaf=0.0,\n",
       "                      n_estimators=15, n_jobs=None, oob_score=False,\n",
       "                      random_state=111, verbose=0, warm_start=False)"
      ]
     },
     "execution_count": 12,
     "metadata": {},
     "output_type": "execute_result"
    }
   ],
   "source": [
    "X_train, X_test, y_train, y_test = train_test_split(X, y, test_size=0.2, random_state=42)\n",
    "forest_model.fit(X_train, y_train)"
   ]
  },
  {
   "cell_type": "code",
   "execution_count": 13,
   "metadata": {},
   "outputs": [
    {
     "name": "stdout",
     "output_type": "stream",
     "text": [
      "0.8925484576875466\n",
      "0.8914728973613338\n"
     ]
    }
   ],
   "source": [
    "print(forest_model.score(X_train, y_train))\n",
    "print(forest_model.score(X_test, y_test))"
   ]
  },
  {
   "cell_type": "code",
   "execution_count": 14,
   "metadata": {},
   "outputs": [],
   "source": [
    "def errors (y, X, model):\n",
    "\n",
    "    print(f'METRIC SUMMARY')\n",
    "    print(f'MSE: {mean_squared_error(y, model.predict(X))}')\n",
    "    print(f'RMSE: {np.sqrt(mean_squared_error(y, model.predict(X)))}')\n",
    "    print(f'MSLE:  {mean_squared_log_error(y, model.predict(X))}')\n",
    "    print(f'MAE:  {mean_absolute_error(y, model.predict(X))}')\n",
    "    print(f'R2:  {r2_score(y, model.predict(X))}')\n"
   ]
  },
  {
   "cell_type": "code",
   "execution_count": 15,
   "metadata": {},
   "outputs": [
    {
     "name": "stdout",
     "output_type": "stream",
     "text": [
      "METRIC SUMMARY\n",
      "MSE: 1700470.9989366832\n",
      "RMSE: 1304.0210883788204\n",
      "MSLE:  0.06813815211998303\n",
      "MAE:  742.040370628593\n",
      "R2:  0.8914728973613338\n"
     ]
    }
   ],
   "source": [
    "errors(y_test,X_test, forest_model)"
   ]
  },
  {
   "cell_type": "code",
   "execution_count": 16,
   "metadata": {},
   "outputs": [
    {
     "name": "stdout",
     "output_type": "stream",
     "text": [
      "0.8933358936031671\n"
     ]
    }
   ],
   "source": [
    "forest_model.fit(X, y)\n",
    "\n",
    "print(forest_model.score(X, y))"
   ]
  },
  {
   "cell_type": "code",
   "execution_count": 17,
   "metadata": {},
   "outputs": [
    {
     "name": "stdout",
     "output_type": "stream",
     "text": [
      "METRIC SUMMARY\n",
      "MSE: 1672144.4720836752\n",
      "RMSE: 1293.1142532984761\n",
      "MSLE:  0.06742575704147705\n",
      "MAE:  736.1849290796216\n",
      "R2:  0.8932807470036362\n"
     ]
    }
   ],
   "source": [
    "errors(y_test, X_test, forest_model)"
   ]
  },
  {
   "cell_type": "code",
   "execution_count": 18,
   "metadata": {},
   "outputs": [
    {
     "data": {
      "text/html": [
       "<div>\n",
       "<style scoped>\n",
       "    .dataframe tbody tr th:only-of-type {\n",
       "        vertical-align: middle;\n",
       "    }\n",
       "\n",
       "    .dataframe tbody tr th {\n",
       "        vertical-align: top;\n",
       "    }\n",
       "\n",
       "    .dataframe thead th {\n",
       "        text-align: right;\n",
       "    }\n",
       "</style>\n",
       "<table border=\"1\" class=\"dataframe\">\n",
       "  <thead>\n",
       "    <tr style=\"text-align: right;\">\n",
       "      <th></th>\n",
       "      <th>carat</th>\n",
       "      <th>clarity</th>\n",
       "      <th>x</th>\n",
       "      <th>y</th>\n",
       "    </tr>\n",
       "  </thead>\n",
       "  <tbody>\n",
       "    <tr>\n",
       "      <th>0</th>\n",
       "      <td>1.10</td>\n",
       "      <td>3</td>\n",
       "      <td>6.69</td>\n",
       "      <td>6.60</td>\n",
       "    </tr>\n",
       "    <tr>\n",
       "      <th>1</th>\n",
       "      <td>0.51</td>\n",
       "      <td>2</td>\n",
       "      <td>5.07</td>\n",
       "      <td>5.10</td>\n",
       "    </tr>\n",
       "    <tr>\n",
       "      <th>2</th>\n",
       "      <td>2.03</td>\n",
       "      <td>2</td>\n",
       "      <td>8.14</td>\n",
       "      <td>8.09</td>\n",
       "    </tr>\n",
       "    <tr>\n",
       "      <th>3</th>\n",
       "      <td>1.21</td>\n",
       "      <td>2</td>\n",
       "      <td>6.96</td>\n",
       "      <td>6.91</td>\n",
       "    </tr>\n",
       "    <tr>\n",
       "      <th>4</th>\n",
       "      <td>0.55</td>\n",
       "      <td>2</td>\n",
       "      <td>5.27</td>\n",
       "      <td>5.22</td>\n",
       "    </tr>\n",
       "  </tbody>\n",
       "</table>\n",
       "</div>"
      ],
      "text/plain": [
       "   carat  clarity     x     y\n",
       "0   1.10        3  6.69  6.60\n",
       "1   0.51        2  5.07  5.10\n",
       "2   2.03        2  8.14  8.09\n",
       "3   1.21        2  6.96  6.91\n",
       "4   0.55        2  5.27  5.22"
      ]
     },
     "execution_count": 18,
     "metadata": {},
     "output_type": "execute_result"
    }
   ],
   "source": [
    "test = pd.read_csv('../inputs/diamonds_test.csv')\n",
    "\n",
    "test_copy = test.copy()\n",
    "test = clean(test)\n",
    "\n",
    "#Elimino las columnas que ha desechado el selector anteriormente:\n",
    "test.drop(['id','cut','color','depth','table','z'], axis =1, inplace = True)\n",
    "\n",
    "test.head()"
   ]
  },
  {
   "cell_type": "code",
   "execution_count": 19,
   "metadata": {},
   "outputs": [
    {
     "data": {
      "text/plain": [
       "array([ 4966.12430614,  1617.31763675, 14916.41682877, ...,\n",
       "         787.62642439,   787.62642439,  1711.66712544])"
      ]
     },
     "execution_count": 19,
     "metadata": {},
     "output_type": "execute_result"
    }
   ],
   "source": [
    "y_final_pred = forest_model.predict(test)\n",
    "\n",
    "y_final_pred"
   ]
  },
  {
   "cell_type": "markdown",
   "metadata": {},
   "source": [
    "file name:  randomForest1"
   ]
  },
  {
   "cell_type": "code",
   "execution_count": 20,
   "metadata": {},
   "outputs": [
    {
     "name": "stderr",
     "output_type": "stream",
     "text": [
      "/usr/local/lib/python3.7/site-packages/pandas/core/frame.py:4238: SettingWithCopyWarning: \n",
      "A value is trying to be set on a copy of a slice from a DataFrame\n",
      "\n",
      "See the caveats in the documentation: http://pandas.pydata.org/pandas-docs/stable/user_guide/indexing.html#returning-a-view-versus-a-copy\n",
      "  return super().rename(**kwargs)\n"
     ]
    }
   ],
   "source": [
    "test_copy['randomForest'] = y_final_pred\n",
    "\n",
    "final = test_copy[['id', 'randomForest']]\n",
    "\n",
    "final.rename(columns={'randomForest': \"price\"}, inplace = True)\n",
    "\n",
    "final.to_csv('outputs/predict1.csv', header=True, index=False)"
   ]
  },
  {
   "cell_type": "markdown",
   "metadata": {},
   "source": [
    "## Validación de resultados aplicando el modelo al dataset completo, sin eliminar columnas\n",
    "\n",
    "name_file: randomForest2_min_params\n"
   ]
  },
  {
   "cell_type": "code",
   "execution_count": 21,
   "metadata": {},
   "outputs": [
    {
     "data": {
      "text/plain": [
       "RandomForestRegressor(bootstrap=True, ccp_alpha=0.0, criterion='mse',\n",
       "                      max_depth=None, max_features='auto', max_leaf_nodes=None,\n",
       "                      max_samples=None, min_impurity_decrease=0.0,\n",
       "                      min_impurity_split=None, min_samples_leaf=1,\n",
       "                      min_samples_split=2, min_weight_fraction_leaf=0.0,\n",
       "                      n_estimators=100, n_jobs=None, oob_score=False,\n",
       "                      random_state=None, verbose=0, warm_start=False)"
      ]
     },
     "execution_count": 21,
     "metadata": {},
     "output_type": "execute_result"
    }
   ],
   "source": [
    "X_copy_train, X_copy_test, y_copy_train, y_copy_test = train_test_split(X_copy, y_copy, test_size=0.2, random_state=42)\n",
    "\n",
    "forest_model_copy = RandomForestRegressor(n_estimators=100)\n",
    "\n",
    "forest_model_copy.fit(X_copy, y_copy)"
   ]
  },
  {
   "cell_type": "code",
   "execution_count": 22,
   "metadata": {},
   "outputs": [
    {
     "name": "stdout",
     "output_type": "stream",
     "text": [
      "METRIC SUMMARY\n",
      "MSE: 68134.76687817574\n",
      "RMSE: 261.0263719974971\n",
      "MSLE:  0.0019134603516933742\n",
      "MAE:  128.91970008675176\n",
      "R2:  0.9956515172308888\n"
     ]
    }
   ],
   "source": [
    "errors(y_copy_test, X_copy_test, forest_model_copy)"
   ]
  },
  {
   "cell_type": "code",
   "execution_count": 23,
   "metadata": {},
   "outputs": [
    {
     "data": {
      "text/html": [
       "<div>\n",
       "<style scoped>\n",
       "    .dataframe tbody tr th:only-of-type {\n",
       "        vertical-align: middle;\n",
       "    }\n",
       "\n",
       "    .dataframe tbody tr th {\n",
       "        vertical-align: top;\n",
       "    }\n",
       "\n",
       "    .dataframe thead th {\n",
       "        text-align: right;\n",
       "    }\n",
       "</style>\n",
       "<table border=\"1\" class=\"dataframe\">\n",
       "  <thead>\n",
       "    <tr style=\"text-align: right;\">\n",
       "      <th></th>\n",
       "      <th>id</th>\n",
       "      <th>carat</th>\n",
       "      <th>cut</th>\n",
       "      <th>color</th>\n",
       "      <th>clarity</th>\n",
       "      <th>depth</th>\n",
       "      <th>table</th>\n",
       "      <th>x</th>\n",
       "      <th>y</th>\n",
       "      <th>z</th>\n",
       "    </tr>\n",
       "  </thead>\n",
       "  <tbody>\n",
       "    <tr>\n",
       "      <th>0</th>\n",
       "      <td>0</td>\n",
       "      <td>1.10</td>\n",
       "      <td>5</td>\n",
       "      <td>5</td>\n",
       "      <td>3</td>\n",
       "      <td>62.2</td>\n",
       "      <td>58.0</td>\n",
       "      <td>6.69</td>\n",
       "      <td>6.60</td>\n",
       "      <td>4.13</td>\n",
       "    </tr>\n",
       "    <tr>\n",
       "      <th>1</th>\n",
       "      <td>1</td>\n",
       "      <td>0.51</td>\n",
       "      <td>4</td>\n",
       "      <td>6</td>\n",
       "      <td>2</td>\n",
       "      <td>62.5</td>\n",
       "      <td>57.0</td>\n",
       "      <td>5.07</td>\n",
       "      <td>5.10</td>\n",
       "      <td>3.18</td>\n",
       "    </tr>\n",
       "    <tr>\n",
       "      <th>2</th>\n",
       "      <td>2</td>\n",
       "      <td>2.03</td>\n",
       "      <td>5</td>\n",
       "      <td>4</td>\n",
       "      <td>2</td>\n",
       "      <td>61.9</td>\n",
       "      <td>59.0</td>\n",
       "      <td>8.14</td>\n",
       "      <td>8.09</td>\n",
       "      <td>5.02</td>\n",
       "    </tr>\n",
       "    <tr>\n",
       "      <th>3</th>\n",
       "      <td>3</td>\n",
       "      <td>1.21</td>\n",
       "      <td>5</td>\n",
       "      <td>2</td>\n",
       "      <td>2</td>\n",
       "      <td>60.0</td>\n",
       "      <td>60.0</td>\n",
       "      <td>6.96</td>\n",
       "      <td>6.91</td>\n",
       "      <td>4.16</td>\n",
       "    </tr>\n",
       "    <tr>\n",
       "      <th>4</th>\n",
       "      <td>4</td>\n",
       "      <td>0.55</td>\n",
       "      <td>4</td>\n",
       "      <td>2</td>\n",
       "      <td>2</td>\n",
       "      <td>61.8</td>\n",
       "      <td>55.0</td>\n",
       "      <td>5.27</td>\n",
       "      <td>5.22</td>\n",
       "      <td>3.24</td>\n",
       "    </tr>\n",
       "  </tbody>\n",
       "</table>\n",
       "</div>"
      ],
      "text/plain": [
       "   id  carat  cut  color  clarity  depth  table     x     y     z\n",
       "0   0   1.10    5      5        3   62.2   58.0  6.69  6.60  4.13\n",
       "1   1   0.51    4      6        2   62.5   57.0  5.07  5.10  3.18\n",
       "2   2   2.03    5      4        2   61.9   59.0  8.14  8.09  5.02\n",
       "3   3   1.21    5      2        2   60.0   60.0  6.96  6.91  4.16\n",
       "4   4   0.55    4      2        2   61.8   55.0  5.27  5.22  3.24"
      ]
     },
     "execution_count": 23,
     "metadata": {},
     "output_type": "execute_result"
    }
   ],
   "source": [
    "# Al cambiar los parámetros de RandomForest se reduce en general el error. Lo exportamos como solución:\n",
    "\n",
    "test = pd.read_csv('../inputs/diamonds_test.csv')\n",
    "\n",
    "test_copy = test.copy()\n",
    "test = clean(test)\n",
    "\n",
    "test.head()"
   ]
  },
  {
   "cell_type": "code",
   "execution_count": 24,
   "metadata": {},
   "outputs": [],
   "source": [
    "y_pred_copy = forest_model_copy.predict(test)"
   ]
  },
  {
   "cell_type": "code",
   "execution_count": 25,
   "metadata": {},
   "outputs": [
    {
     "name": "stderr",
     "output_type": "stream",
     "text": [
      "/usr/local/lib/python3.7/site-packages/pandas/core/frame.py:4238: SettingWithCopyWarning: \n",
      "A value is trying to be set on a copy of a slice from a DataFrame\n",
      "\n",
      "See the caveats in the documentation: http://pandas.pydata.org/pandas-docs/stable/user_guide/indexing.html#returning-a-view-versus-a-copy\n",
      "  return super().rename(**kwargs)\n"
     ]
    }
   ],
   "source": [
    "test_copy['randomForest'] = y_pred_copy\n",
    "\n",
    "final_copy = test_copy[['id', 'randomForest']]\n",
    "\n",
    "final_copy.rename(columns={'randomForest': \"price\"}, inplace = True)\n",
    "\n",
    "final_copy.to_csv('outputs/predict2.csv', header=True, index=False)"
   ]
  },
  {
   "cell_type": "code",
   "execution_count": 26,
   "metadata": {},
   "outputs": [
    {
     "data": {
      "text/html": [
       "<div>\n",
       "<style scoped>\n",
       "    .dataframe tbody tr th:only-of-type {\n",
       "        vertical-align: middle;\n",
       "    }\n",
       "\n",
       "    .dataframe tbody tr th {\n",
       "        vertical-align: top;\n",
       "    }\n",
       "\n",
       "    .dataframe thead th {\n",
       "        text-align: right;\n",
       "    }\n",
       "</style>\n",
       "<table border=\"1\" class=\"dataframe\">\n",
       "  <thead>\n",
       "    <tr style=\"text-align: right;\">\n",
       "      <th></th>\n",
       "      <th>id</th>\n",
       "      <th>carat</th>\n",
       "      <th>cut</th>\n",
       "      <th>color</th>\n",
       "      <th>clarity</th>\n",
       "      <th>depth</th>\n",
       "      <th>table</th>\n",
       "      <th>x</th>\n",
       "      <th>y</th>\n",
       "      <th>z</th>\n",
       "      <th>randomForest</th>\n",
       "    </tr>\n",
       "  </thead>\n",
       "  <tbody>\n",
       "    <tr>\n",
       "      <th>0</th>\n",
       "      <td>0</td>\n",
       "      <td>1.10</td>\n",
       "      <td>Premium</td>\n",
       "      <td>H</td>\n",
       "      <td>SI2</td>\n",
       "      <td>62.2</td>\n",
       "      <td>58.0</td>\n",
       "      <td>6.69</td>\n",
       "      <td>6.60</td>\n",
       "      <td>4.13</td>\n",
       "      <td>4725.91</td>\n",
       "    </tr>\n",
       "    <tr>\n",
       "      <th>1</th>\n",
       "      <td>1</td>\n",
       "      <td>0.51</td>\n",
       "      <td>Ideal</td>\n",
       "      <td>I</td>\n",
       "      <td>SI1</td>\n",
       "      <td>62.5</td>\n",
       "      <td>57.0</td>\n",
       "      <td>5.07</td>\n",
       "      <td>5.10</td>\n",
       "      <td>3.18</td>\n",
       "      <td>1021.32</td>\n",
       "    </tr>\n",
       "    <tr>\n",
       "      <th>2</th>\n",
       "      <td>2</td>\n",
       "      <td>2.03</td>\n",
       "      <td>Premium</td>\n",
       "      <td>G</td>\n",
       "      <td>SI1</td>\n",
       "      <td>61.9</td>\n",
       "      <td>59.0</td>\n",
       "      <td>8.14</td>\n",
       "      <td>8.09</td>\n",
       "      <td>5.02</td>\n",
       "      <td>14745.06</td>\n",
       "    </tr>\n",
       "    <tr>\n",
       "      <th>3</th>\n",
       "      <td>3</td>\n",
       "      <td>1.21</td>\n",
       "      <td>Premium</td>\n",
       "      <td>F</td>\n",
       "      <td>SI1</td>\n",
       "      <td>60.0</td>\n",
       "      <td>60.0</td>\n",
       "      <td>6.96</td>\n",
       "      <td>6.91</td>\n",
       "      <td>4.16</td>\n",
       "      <td>6721.86</td>\n",
       "    </tr>\n",
       "    <tr>\n",
       "      <th>4</th>\n",
       "      <td>4</td>\n",
       "      <td>0.55</td>\n",
       "      <td>Ideal</td>\n",
       "      <td>F</td>\n",
       "      <td>SI1</td>\n",
       "      <td>61.8</td>\n",
       "      <td>55.0</td>\n",
       "      <td>5.27</td>\n",
       "      <td>5.22</td>\n",
       "      <td>3.24</td>\n",
       "      <td>1536.94</td>\n",
       "    </tr>\n",
       "  </tbody>\n",
       "</table>\n",
       "</div>"
      ],
      "text/plain": [
       "   id  carat      cut color clarity  depth  table     x     y     z  \\\n",
       "0   0   1.10  Premium     H     SI2   62.2   58.0  6.69  6.60  4.13   \n",
       "1   1   0.51    Ideal     I     SI1   62.5   57.0  5.07  5.10  3.18   \n",
       "2   2   2.03  Premium     G     SI1   61.9   59.0  8.14  8.09  5.02   \n",
       "3   3   1.21  Premium     F     SI1   60.0   60.0  6.96  6.91  4.16   \n",
       "4   4   0.55    Ideal     F     SI1   61.8   55.0  5.27  5.22  3.24   \n",
       "\n",
       "   randomForest  \n",
       "0       4725.91  \n",
       "1       1021.32  \n",
       "2      14745.06  \n",
       "3       6721.86  \n",
       "4       1536.94  "
      ]
     },
     "execution_count": 26,
     "metadata": {},
     "output_type": "execute_result"
    }
   ],
   "source": [
    "test_copy.head()"
   ]
  },
  {
   "cell_type": "markdown",
   "metadata": {},
   "source": [
    "## Sin eliminar columnas y variando parametros de randomForest\n",
    "\n",
    "En model3, se valida que con 200 y mejora la predicción.\n"
   ]
  },
  {
   "cell_type": "code",
   "execution_count": 27,
   "metadata": {},
   "outputs": [
    {
     "name": "stdout",
     "output_type": "stream",
     "text": [
      "(32276, 10) (8069, 10) (32276,) (8069,)\n"
     ]
    }
   ],
   "source": [
    "#A partir de X_copy y y_copy\n",
    "\n",
    "X_train, X_test, y_train, y_test = train_test_split(X_copy, y_copy, test_size=0.2)\n",
    "print(X_train.shape, X_test.shape, y_train.shape, y_test.shape)"
   ]
  },
  {
   "cell_type": "code",
   "execution_count": 28,
   "metadata": {},
   "outputs": [
    {
     "name": "stdout",
     "output_type": "stream",
     "text": [
      "METRIC SUMMARY\n",
      "MSE: 1769483.1616319786\n",
      "RMSE: 1330.2192156302578\n",
      "MSLE:  0.06973185979349956\n",
      "MAE:  760.5432528671655\n",
      "R2:  0.8922357082375852\n"
     ]
    }
   ],
   "source": [
    "forest_model_1 = RandomForestRegressor(n_estimators=200, max_depth=3, min_samples_leaf=3, random_state=111)\n",
    "\n",
    "forest_model_1.fit(X_train, y_train)\n",
    "y_pred_1 = forest_model_1.predict(X_test)\n",
    "errors(y_test, X_test, forest_model_1)"
   ]
  },
  {
   "cell_type": "code",
   "execution_count": 29,
   "metadata": {},
   "outputs": [
    {
     "name": "stdout",
     "output_type": "stream",
     "text": [
      "METRIC SUMMARY\n",
      "MSE: 1065615.6797098082\n",
      "RMSE: 1032.2866267223499\n",
      "MSLE:  0.03970311997928984\n",
      "MAE:  583.0511682102359\n",
      "R2:  0.9351023386348927\n"
     ]
    }
   ],
   "source": [
    "forest_model_2 = RandomForestRegressor(n_estimators=200, max_depth=5, min_samples_leaf=5)\n",
    "\n",
    "forest_model_2.fit(X_train, y_train)\n",
    "y_pred_1 = forest_model_2.predict(X_test)\n",
    "errors(y_test, X_test, forest_model_2)"
   ]
  },
  {
   "cell_type": "code",
   "execution_count": 30,
   "metadata": {},
   "outputs": [
    {
     "name": "stdout",
     "output_type": "stream",
     "text": [
      "METRIC SUMMARY\n",
      "MSE: 567684.7720488325\n",
      "RMSE: 753.4485862013629\n",
      "MSLE:  0.013320241700711288\n",
      "MAE:  371.0902086335245\n",
      "R2:  0.9654271096042937\n"
     ]
    }
   ],
   "source": [
    "forest_model_3 = RandomForestRegressor(n_estimators=200, min_samples_leaf=5)\n",
    "\n",
    "forest_model_3.fit(X_train, y_train)\n",
    "y_pred_1 = forest_model_3.predict(X_test)\n",
    "errors(y_test, X_test, forest_model_3)"
   ]
  },
  {
   "cell_type": "code",
   "execution_count": 31,
   "metadata": {},
   "outputs": [
    {
     "name": "stdout",
     "output_type": "stream",
     "text": [
      "METRIC SUMMARY\n",
      "MSE: 624770.7402879094\n",
      "RMSE: 790.4244051697224\n",
      "MSLE:  0.015736896873314737\n",
      "MAE:  399.5752732718628\n",
      "R2:  0.96195048486423\n"
     ]
    }
   ],
   "source": [
    "forest_model_4 = RandomForestRegressor(n_estimators=200, min_samples_leaf=3, max_features=3)\n",
    "\n",
    "forest_model_4.fit(X_train, y_train)\n",
    "y_pred_1 = forest_model_4.predict(X_test)\n",
    "errors(y_test, X_test, forest_model_4)"
   ]
  },
  {
   "cell_type": "code",
   "execution_count": 32,
   "metadata": {},
   "outputs": [
    {
     "name": "stdout",
     "output_type": "stream",
     "text": [
      "METRIC SUMMARY\n",
      "MSE: 669294.9548947936\n",
      "RMSE: 818.1044889834021\n",
      "MSLE:  0.017204903229911108\n",
      "MAE:  417.54273954939646\n",
      "R2:  0.9592388905651561\n"
     ]
    }
   ],
   "source": [
    "forest_model_5 = RandomForestRegressor(n_estimators=200, min_samples_leaf=3,max_features=2, bootstrap=False)\n",
    "\n",
    "forest_model_5.fit(X_train, y_train)\n",
    "y_pred_1 = forest_model_5.predict(X_test)\n",
    "errors(y_test, X_test, forest_model_5)"
   ]
  },
  {
   "cell_type": "markdown",
   "metadata": {},
   "source": [
    "Entreno el 4 con el total de datos:"
   ]
  },
  {
   "cell_type": "code",
   "execution_count": 33,
   "metadata": {},
   "outputs": [],
   "source": [
    "forest_model_4 = RandomForestRegressor(n_estimators=200, min_samples_leaf=3, max_features=3)\n",
    "\n",
    "forest_model_4.fit(X_copy, y_copy)\n",
    "y_pred_4 = forest_model_4.predict(test)\n"
   ]
  },
  {
   "cell_type": "code",
   "execution_count": 34,
   "metadata": {},
   "outputs": [
    {
     "name": "stderr",
     "output_type": "stream",
     "text": [
      "/usr/local/lib/python3.7/site-packages/pandas/core/frame.py:4238: SettingWithCopyWarning: \n",
      "A value is trying to be set on a copy of a slice from a DataFrame\n",
      "\n",
      "See the caveats in the documentation: http://pandas.pydata.org/pandas-docs/stable/user_guide/indexing.html#returning-a-view-versus-a-copy\n",
      "  return super().rename(**kwargs)\n"
     ]
    }
   ],
   "source": [
    "test_copy['randomForest4'] = y_pred_4\n",
    "\n",
    "final_copy = test_copy[['id', 'randomForest4']]\n",
    "\n",
    "final_copy.rename(columns={'randomForest4': \"price\"}, inplace = True)\n",
    "\n",
    "final_copy.to_csv('outputs/predictRandom4.csv', header=True, index=False)"
   ]
  },
  {
   "cell_type": "code",
   "execution_count": 35,
   "metadata": {},
   "outputs": [
    {
     "data": {
      "text/html": [
       "<div>\n",
       "<style scoped>\n",
       "    .dataframe tbody tr th:only-of-type {\n",
       "        vertical-align: middle;\n",
       "    }\n",
       "\n",
       "    .dataframe tbody tr th {\n",
       "        vertical-align: top;\n",
       "    }\n",
       "\n",
       "    .dataframe thead th {\n",
       "        text-align: right;\n",
       "    }\n",
       "</style>\n",
       "<table border=\"1\" class=\"dataframe\">\n",
       "  <thead>\n",
       "    <tr style=\"text-align: right;\">\n",
       "      <th></th>\n",
       "      <th>id</th>\n",
       "      <th>price</th>\n",
       "    </tr>\n",
       "  </thead>\n",
       "  <tbody>\n",
       "    <tr>\n",
       "      <th>0</th>\n",
       "      <td>0</td>\n",
       "      <td>4656.882829</td>\n",
       "    </tr>\n",
       "    <tr>\n",
       "      <th>1</th>\n",
       "      <td>1</td>\n",
       "      <td>1124.153815</td>\n",
       "    </tr>\n",
       "    <tr>\n",
       "      <th>2</th>\n",
       "      <td>2</td>\n",
       "      <td>14561.142993</td>\n",
       "    </tr>\n",
       "    <tr>\n",
       "      <th>3</th>\n",
       "      <td>3</td>\n",
       "      <td>6389.578380</td>\n",
       "    </tr>\n",
       "    <tr>\n",
       "      <th>4</th>\n",
       "      <td>4</td>\n",
       "      <td>1501.445474</td>\n",
       "    </tr>\n",
       "  </tbody>\n",
       "</table>\n",
       "</div>"
      ],
      "text/plain": [
       "   id         price\n",
       "0   0   4656.882829\n",
       "1   1   1124.153815\n",
       "2   2  14561.142993\n",
       "3   3   6389.578380\n",
       "4   4   1501.445474"
      ]
     },
     "execution_count": 35,
     "metadata": {},
     "output_type": "execute_result"
    }
   ],
   "source": [
    "final_copy.head()"
   ]
  },
  {
   "cell_type": "markdown",
   "metadata": {},
   "source": [
    "##  Analizando la correlación:"
   ]
  },
  {
   "cell_type": "code",
   "execution_count": 36,
   "metadata": {
    "scrolled": false
   },
   "outputs": [
    {
     "data": {
      "text/html": [
       "<div>\n",
       "<style scoped>\n",
       "    .dataframe tbody tr th:only-of-type {\n",
       "        vertical-align: middle;\n",
       "    }\n",
       "\n",
       "    .dataframe tbody tr th {\n",
       "        vertical-align: top;\n",
       "    }\n",
       "\n",
       "    .dataframe thead th {\n",
       "        text-align: right;\n",
       "    }\n",
       "</style>\n",
       "<table border=\"1\" class=\"dataframe\">\n",
       "  <thead>\n",
       "    <tr style=\"text-align: right;\">\n",
       "      <th></th>\n",
       "      <th>id</th>\n",
       "      <th>carat</th>\n",
       "      <th>cut</th>\n",
       "      <th>color</th>\n",
       "      <th>clarity</th>\n",
       "      <th>depth</th>\n",
       "      <th>table</th>\n",
       "      <th>x</th>\n",
       "      <th>y</th>\n",
       "      <th>z</th>\n",
       "      <th>price</th>\n",
       "    </tr>\n",
       "  </thead>\n",
       "  <tbody>\n",
       "    <tr>\n",
       "      <th>0</th>\n",
       "      <td>0</td>\n",
       "      <td>0.78</td>\n",
       "      <td>5</td>\n",
       "      <td>2</td>\n",
       "      <td>4</td>\n",
       "      <td>61.5</td>\n",
       "      <td>58.0</td>\n",
       "      <td>5.93</td>\n",
       "      <td>5.98</td>\n",
       "      <td>3.66</td>\n",
       "      <td>3446</td>\n",
       "    </tr>\n",
       "    <tr>\n",
       "      <th>1</th>\n",
       "      <td>1</td>\n",
       "      <td>0.31</td>\n",
       "      <td>4</td>\n",
       "      <td>7</td>\n",
       "      <td>2</td>\n",
       "      <td>60.8</td>\n",
       "      <td>56.0</td>\n",
       "      <td>4.37</td>\n",
       "      <td>4.32</td>\n",
       "      <td>2.64</td>\n",
       "      <td>732</td>\n",
       "    </tr>\n",
       "    <tr>\n",
       "      <th>2</th>\n",
       "      <td>2</td>\n",
       "      <td>0.30</td>\n",
       "      <td>4</td>\n",
       "      <td>2</td>\n",
       "      <td>2</td>\n",
       "      <td>62.3</td>\n",
       "      <td>54.0</td>\n",
       "      <td>4.30</td>\n",
       "      <td>4.34</td>\n",
       "      <td>2.69</td>\n",
       "      <td>475</td>\n",
       "    </tr>\n",
       "    <tr>\n",
       "      <th>3</th>\n",
       "      <td>3</td>\n",
       "      <td>1.04</td>\n",
       "      <td>4</td>\n",
       "      <td>3</td>\n",
       "      <td>7</td>\n",
       "      <td>62.0</td>\n",
       "      <td>58.0</td>\n",
       "      <td>6.54</td>\n",
       "      <td>6.46</td>\n",
       "      <td>4.03</td>\n",
       "      <td>9552</td>\n",
       "    </tr>\n",
       "    <tr>\n",
       "      <th>4</th>\n",
       "      <td>4</td>\n",
       "      <td>0.65</td>\n",
       "      <td>4</td>\n",
       "      <td>4</td>\n",
       "      <td>2</td>\n",
       "      <td>61.4</td>\n",
       "      <td>55.0</td>\n",
       "      <td>5.58</td>\n",
       "      <td>5.62</td>\n",
       "      <td>3.44</td>\n",
       "      <td>1276</td>\n",
       "    </tr>\n",
       "  </tbody>\n",
       "</table>\n",
       "</div>"
      ],
      "text/plain": [
       "   id  carat  cut  color  clarity  depth  table     x     y     z  price\n",
       "0   0   0.78    5      2        4   61.5   58.0  5.93  5.98  3.66   3446\n",
       "1   1   0.31    4      7        2   60.8   56.0  4.37  4.32  2.64    732\n",
       "2   2   0.30    4      2        2   62.3   54.0  4.30  4.34  2.69    475\n",
       "3   3   1.04    4      3        7   62.0   58.0  6.54  6.46  4.03   9552\n",
       "4   4   0.65    4      4        2   61.4   55.0  5.58  5.62  3.44   1276"
      ]
     },
     "execution_count": 36,
     "metadata": {},
     "output_type": "execute_result"
    }
   ],
   "source": [
    "diamonds.head()"
   ]
  },
  {
   "cell_type": "code",
   "execution_count": 37,
   "metadata": {},
   "outputs": [],
   "source": [
    "diamonds.drop('id', axis =1, inplace = True)"
   ]
  },
  {
   "cell_type": "code",
   "execution_count": 38,
   "metadata": {},
   "outputs": [
    {
     "data": {
      "text/html": [
       "<div>\n",
       "<style scoped>\n",
       "    .dataframe tbody tr th:only-of-type {\n",
       "        vertical-align: middle;\n",
       "    }\n",
       "\n",
       "    .dataframe tbody tr th {\n",
       "        vertical-align: top;\n",
       "    }\n",
       "\n",
       "    .dataframe thead th {\n",
       "        text-align: right;\n",
       "    }\n",
       "</style>\n",
       "<table border=\"1\" class=\"dataframe\">\n",
       "  <thead>\n",
       "    <tr style=\"text-align: right;\">\n",
       "      <th></th>\n",
       "      <th>carat</th>\n",
       "      <th>cut</th>\n",
       "      <th>color</th>\n",
       "      <th>clarity</th>\n",
       "      <th>depth</th>\n",
       "      <th>table</th>\n",
       "      <th>x</th>\n",
       "      <th>y</th>\n",
       "      <th>z</th>\n",
       "      <th>price</th>\n",
       "    </tr>\n",
       "  </thead>\n",
       "  <tbody>\n",
       "    <tr>\n",
       "      <th>carat</th>\n",
       "      <td>1.000000</td>\n",
       "      <td>-0.017314</td>\n",
       "      <td>0.078995</td>\n",
       "      <td>-0.281975</td>\n",
       "      <td>0.023118</td>\n",
       "      <td>0.181725</td>\n",
       "      <td>0.976267</td>\n",
       "      <td>0.945757</td>\n",
       "      <td>0.968685</td>\n",
       "      <td>0.922345</td>\n",
       "    </tr>\n",
       "    <tr>\n",
       "      <th>cut</th>\n",
       "      <td>-0.017314</td>\n",
       "      <td>1.000000</td>\n",
       "      <td>0.004712</td>\n",
       "      <td>0.065965</td>\n",
       "      <td>-0.303405</td>\n",
       "      <td>-0.062829</td>\n",
       "      <td>-0.004183</td>\n",
       "      <td>-0.011733</td>\n",
       "      <td>-0.046570</td>\n",
       "      <td>0.029750</td>\n",
       "    </tr>\n",
       "    <tr>\n",
       "      <th>color</th>\n",
       "      <td>0.078995</td>\n",
       "      <td>0.004712</td>\n",
       "      <td>1.000000</td>\n",
       "      <td>-0.072390</td>\n",
       "      <td>0.021176</td>\n",
       "      <td>-0.001145</td>\n",
       "      <td>0.069462</td>\n",
       "      <td>0.066811</td>\n",
       "      <td>0.070828</td>\n",
       "      <td>0.042707</td>\n",
       "    </tr>\n",
       "    <tr>\n",
       "      <th>clarity</th>\n",
       "      <td>-0.281975</td>\n",
       "      <td>0.065965</td>\n",
       "      <td>-0.072390</td>\n",
       "      <td>1.000000</td>\n",
       "      <td>-0.066128</td>\n",
       "      <td>-0.139029</td>\n",
       "      <td>-0.302599</td>\n",
       "      <td>-0.289453</td>\n",
       "      <td>-0.304629</td>\n",
       "      <td>-0.107000</td>\n",
       "    </tr>\n",
       "    <tr>\n",
       "      <th>depth</th>\n",
       "      <td>0.023118</td>\n",
       "      <td>-0.303405</td>\n",
       "      <td>0.021176</td>\n",
       "      <td>-0.066128</td>\n",
       "      <td>1.000000</td>\n",
       "      <td>-0.299534</td>\n",
       "      <td>-0.028765</td>\n",
       "      <td>-0.032894</td>\n",
       "      <td>0.092482</td>\n",
       "      <td>-0.013307</td>\n",
       "    </tr>\n",
       "    <tr>\n",
       "      <th>table</th>\n",
       "      <td>0.181725</td>\n",
       "      <td>-0.062829</td>\n",
       "      <td>-0.001145</td>\n",
       "      <td>-0.139029</td>\n",
       "      <td>-0.299534</td>\n",
       "      <td>1.000000</td>\n",
       "      <td>0.195775</td>\n",
       "      <td>0.182559</td>\n",
       "      <td>0.154399</td>\n",
       "      <td>0.126545</td>\n",
       "    </tr>\n",
       "    <tr>\n",
       "      <th>x</th>\n",
       "      <td>0.976267</td>\n",
       "      <td>-0.004183</td>\n",
       "      <td>0.069462</td>\n",
       "      <td>-0.302599</td>\n",
       "      <td>-0.028765</td>\n",
       "      <td>0.195775</td>\n",
       "      <td>1.000000</td>\n",
       "      <td>0.967143</td>\n",
       "      <td>0.985385</td>\n",
       "      <td>0.886168</td>\n",
       "    </tr>\n",
       "    <tr>\n",
       "      <th>y</th>\n",
       "      <td>0.945757</td>\n",
       "      <td>-0.011733</td>\n",
       "      <td>0.066811</td>\n",
       "      <td>-0.289453</td>\n",
       "      <td>-0.032894</td>\n",
       "      <td>0.182559</td>\n",
       "      <td>0.967143</td>\n",
       "      <td>1.000000</td>\n",
       "      <td>0.960350</td>\n",
       "      <td>0.860499</td>\n",
       "    </tr>\n",
       "    <tr>\n",
       "      <th>z</th>\n",
       "      <td>0.968685</td>\n",
       "      <td>-0.046570</td>\n",
       "      <td>0.070828</td>\n",
       "      <td>-0.304629</td>\n",
       "      <td>0.092482</td>\n",
       "      <td>0.154399</td>\n",
       "      <td>0.985385</td>\n",
       "      <td>0.960350</td>\n",
       "      <td>1.000000</td>\n",
       "      <td>0.876061</td>\n",
       "    </tr>\n",
       "    <tr>\n",
       "      <th>price</th>\n",
       "      <td>0.922345</td>\n",
       "      <td>0.029750</td>\n",
       "      <td>0.042707</td>\n",
       "      <td>-0.107000</td>\n",
       "      <td>-0.013307</td>\n",
       "      <td>0.126545</td>\n",
       "      <td>0.886168</td>\n",
       "      <td>0.860499</td>\n",
       "      <td>0.876061</td>\n",
       "      <td>1.000000</td>\n",
       "    </tr>\n",
       "  </tbody>\n",
       "</table>\n",
       "</div>"
      ],
      "text/plain": [
       "            carat       cut     color   clarity     depth     table         x  \\\n",
       "carat    1.000000 -0.017314  0.078995 -0.281975  0.023118  0.181725  0.976267   \n",
       "cut     -0.017314  1.000000  0.004712  0.065965 -0.303405 -0.062829 -0.004183   \n",
       "color    0.078995  0.004712  1.000000 -0.072390  0.021176 -0.001145  0.069462   \n",
       "clarity -0.281975  0.065965 -0.072390  1.000000 -0.066128 -0.139029 -0.302599   \n",
       "depth    0.023118 -0.303405  0.021176 -0.066128  1.000000 -0.299534 -0.028765   \n",
       "table    0.181725 -0.062829 -0.001145 -0.139029 -0.299534  1.000000  0.195775   \n",
       "x        0.976267 -0.004183  0.069462 -0.302599 -0.028765  0.195775  1.000000   \n",
       "y        0.945757 -0.011733  0.066811 -0.289453 -0.032894  0.182559  0.967143   \n",
       "z        0.968685 -0.046570  0.070828 -0.304629  0.092482  0.154399  0.985385   \n",
       "price    0.922345  0.029750  0.042707 -0.107000 -0.013307  0.126545  0.886168   \n",
       "\n",
       "                y         z     price  \n",
       "carat    0.945757  0.968685  0.922345  \n",
       "cut     -0.011733 -0.046570  0.029750  \n",
       "color    0.066811  0.070828  0.042707  \n",
       "clarity -0.289453 -0.304629 -0.107000  \n",
       "depth   -0.032894  0.092482 -0.013307  \n",
       "table    0.182559  0.154399  0.126545  \n",
       "x        0.967143  0.985385  0.886168  \n",
       "y        1.000000  0.960350  0.860499  \n",
       "z        0.960350  1.000000  0.876061  \n",
       "price    0.860499  0.876061  1.000000  "
      ]
     },
     "execution_count": 38,
     "metadata": {},
     "output_type": "execute_result"
    }
   ],
   "source": [
    "diamonds.corr()"
   ]
  },
  {
   "cell_type": "code",
   "execution_count": 39,
   "metadata": {},
   "outputs": [],
   "source": [
    "diamonds.drop(['x','y'], axis=1, inplace=True)"
   ]
  },
  {
   "cell_type": "code",
   "execution_count": 40,
   "metadata": {},
   "outputs": [
    {
     "data": {
      "text/plain": [
       "(40345, 8)"
      ]
     },
     "execution_count": 40,
     "metadata": {},
     "output_type": "execute_result"
    }
   ],
   "source": [
    "diamonds.shape"
   ]
  },
  {
   "cell_type": "code",
   "execution_count": 41,
   "metadata": {},
   "outputs": [],
   "source": [
    "X_reduced = diamonds.drop('price', axis=1)\n",
    "y_reduced = diamonds['price']\n",
    "\n",
    "X_r_train, X_r_test, y_r_train, y_r_test = train_test_split(X_reduced, y_reduced, test_size=0.2)\n"
   ]
  },
  {
   "cell_type": "code",
   "execution_count": 42,
   "metadata": {},
   "outputs": [
    {
     "data": {
      "text/plain": [
       "(40345, 7)"
      ]
     },
     "execution_count": 42,
     "metadata": {},
     "output_type": "execute_result"
    }
   ],
   "source": [
    "X_reduced.shape"
   ]
  },
  {
   "cell_type": "code",
   "execution_count": 43,
   "metadata": {},
   "outputs": [
    {
     "name": "stdout",
     "output_type": "stream",
     "text": [
      "METRIC SUMMARY\n",
      "MSE: 553320.2119381935\n",
      "RMSE: 743.8549670051236\n",
      "MSLE:  0.015957512272357584\n",
      "MAE:  377.7280390231063\n",
      "R2:  0.9656909130824579\n"
     ]
    }
   ],
   "source": [
    "forest_model_red = RandomForestRegressor(n_estimators=200, min_samples_leaf=3, max_features=3)\n",
    "\n",
    "forest_model_red.fit(X_r_train, y_r_train)\n",
    "y_pred_1 = forest_model_red.predict(X_r_test)\n",
    "errors(y_r_test, X_r_test, forest_model_red)"
   ]
  },
  {
   "cell_type": "code",
   "execution_count": 47,
   "metadata": {},
   "outputs": [],
   "source": [
    "forest_model_red.fit(X_reduced, y_reduced)\n",
    "test_reduced = test.drop(['id','x','y'],axis = 1)\n",
    "y_pred_reduced = forest_model_red.predict(test_reduced)"
   ]
  },
  {
   "cell_type": "code",
   "execution_count": 49,
   "metadata": {},
   "outputs": [
    {
     "name": "stderr",
     "output_type": "stream",
     "text": [
      "/usr/local/lib/python3.7/site-packages/pandas/core/frame.py:4238: SettingWithCopyWarning: \n",
      "A value is trying to be set on a copy of a slice from a DataFrame\n",
      "\n",
      "See the caveats in the documentation: http://pandas.pydata.org/pandas-docs/stable/user_guide/indexing.html#returning-a-view-versus-a-copy\n",
      "  return super().rename(**kwargs)\n"
     ]
    }
   ],
   "source": [
    "test['randomForest_reduced'] = y_pred_reduced\n",
    "\n",
    "final_copy_reduced = test[['id', 'randomForest_reduced']]\n",
    "\n",
    "final_copy_reduced.rename(columns={'randomForest_reduced': \"price\"}, inplace = True)\n",
    "\n",
    "final_copy_reduced.to_csv('outputs/predictRandomReduced.csv', header=True, index=False)"
   ]
  },
  {
   "cell_type": "code",
   "execution_count": 50,
   "metadata": {},
   "outputs": [
    {
     "data": {
      "text/html": [
       "<div>\n",
       "<style scoped>\n",
       "    .dataframe tbody tr th:only-of-type {\n",
       "        vertical-align: middle;\n",
       "    }\n",
       "\n",
       "    .dataframe tbody tr th {\n",
       "        vertical-align: top;\n",
       "    }\n",
       "\n",
       "    .dataframe thead th {\n",
       "        text-align: right;\n",
       "    }\n",
       "</style>\n",
       "<table border=\"1\" class=\"dataframe\">\n",
       "  <thead>\n",
       "    <tr style=\"text-align: right;\">\n",
       "      <th></th>\n",
       "      <th>id</th>\n",
       "      <th>price</th>\n",
       "    </tr>\n",
       "  </thead>\n",
       "  <tbody>\n",
       "    <tr>\n",
       "      <th>0</th>\n",
       "      <td>0</td>\n",
       "      <td>4582.794769</td>\n",
       "    </tr>\n",
       "    <tr>\n",
       "      <th>1</th>\n",
       "      <td>1</td>\n",
       "      <td>1073.149383</td>\n",
       "    </tr>\n",
       "    <tr>\n",
       "      <th>2</th>\n",
       "      <td>2</td>\n",
       "      <td>14916.493869</td>\n",
       "    </tr>\n",
       "    <tr>\n",
       "      <th>3</th>\n",
       "      <td>3</td>\n",
       "      <td>6634.786589</td>\n",
       "    </tr>\n",
       "    <tr>\n",
       "      <th>4</th>\n",
       "      <td>4</td>\n",
       "      <td>1473.999910</td>\n",
       "    </tr>\n",
       "    <tr>\n",
       "      <th>...</th>\n",
       "      <td>...</td>\n",
       "      <td>...</td>\n",
       "    </tr>\n",
       "    <tr>\n",
       "      <th>13444</th>\n",
       "      <td>13444</td>\n",
       "      <td>748.362959</td>\n",
       "    </tr>\n",
       "    <tr>\n",
       "      <th>13445</th>\n",
       "      <td>13445</td>\n",
       "      <td>2615.272437</td>\n",
       "    </tr>\n",
       "    <tr>\n",
       "      <th>13446</th>\n",
       "      <td>13446</td>\n",
       "      <td>512.098489</td>\n",
       "    </tr>\n",
       "    <tr>\n",
       "      <th>13447</th>\n",
       "      <td>13447</td>\n",
       "      <td>742.747509</td>\n",
       "    </tr>\n",
       "    <tr>\n",
       "      <th>13448</th>\n",
       "      <td>13448</td>\n",
       "      <td>2008.487593</td>\n",
       "    </tr>\n",
       "  </tbody>\n",
       "</table>\n",
       "<p>13449 rows × 2 columns</p>\n",
       "</div>"
      ],
      "text/plain": [
       "          id         price\n",
       "0          0   4582.794769\n",
       "1          1   1073.149383\n",
       "2          2  14916.493869\n",
       "3          3   6634.786589\n",
       "4          4   1473.999910\n",
       "...      ...           ...\n",
       "13444  13444    748.362959\n",
       "13445  13445   2615.272437\n",
       "13446  13446    512.098489\n",
       "13447  13447    742.747509\n",
       "13448  13448   2008.487593\n",
       "\n",
       "[13449 rows x 2 columns]"
      ]
     },
     "execution_count": 50,
     "metadata": {},
     "output_type": "execute_result"
    }
   ],
   "source": [
    "final_copy_reduced"
   ]
  },
  {
   "cell_type": "code",
   "execution_count": null,
   "metadata": {},
   "outputs": [],
   "source": []
  }
 ],
 "metadata": {
  "kernelspec": {
   "display_name": "Python 3",
   "language": "python",
   "name": "python3"
  },
  "language_info": {
   "codemirror_mode": {
    "name": "ipython",
    "version": 3
   },
   "file_extension": ".py",
   "mimetype": "text/x-python",
   "name": "python",
   "nbconvert_exporter": "python",
   "pygments_lexer": "ipython3",
   "version": "3.7.6"
  }
 },
 "nbformat": 4,
 "nbformat_minor": 4
}
